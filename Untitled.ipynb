{
 "cells": [
  {
   "cell_type": "code",
   "execution_count": 3,
   "metadata": {},
   "outputs": [],
   "source": [
    "import pandas as pd \n",
    "import matplotlib.pyplot as plt\n",
    "from  sklearn.datasets import load_digits\n",
    "%matplotlib inline\n"
   ]
  },
  {
   "cell_type": "code",
   "execution_count": 4,
   "metadata": {},
   "outputs": [
    {
     "data": {
      "text/plain": [
       "dict_keys(['data', 'target', 'target_names', 'images', 'DESCR'])"
      ]
     },
     "execution_count": 4,
     "metadata": {},
     "output_type": "execute_result"
    }
   ],
   "source": [
    "digits=load_digits()\n",
    "digits.keys()"
   ]
  },
  {
   "cell_type": "code",
   "execution_count": 5,
   "metadata": {},
   "outputs": [
    {
     "data": {
      "text/plain": [
       "<matplotlib.image.AxesImage at 0xb824dd8>"
      ]
     },
     "execution_count": 5,
     "metadata": {},
     "output_type": "execute_result"
    },
    {
     "data": {
      "text/plain": [
       "<Figure size 432x288 with 0 Axes>"
      ]
     },
     "metadata": {},
     "output_type": "display_data"
    },
    {
     "data": {
      "image/png": "[encoded data removed]",
      "text/plain": [
       "<Figure size 288x288 with 1 Axes>"
      ]
     },
     "metadata": {
      "needs_background": "light"
     },
     "output_type": "display_data"
    }
   ],
   "source": [
    "plt.gray()\n",
    "plt.matshow(digits.images[0])"
   ]
  },
  {
   "cell_type": "code",
   "execution_count": 6,
   "metadata": {},
   "outputs": [
    {
     "data": {
      "text/plain": [
       "2"
      ]
     },
     "execution_count": 6,
     "metadata": {},
     "output_type": "execute_result"
    }
   ],
   "source": [
    "digits.target[2]"
   ]
  },
  {
   "cell_type": "code",
   "execution_count": 7,
   "metadata": {},
   "outputs": [],
   "source": [
    "from sklearn.model_selection import train_test_split"
   ]
  },
  {
   "cell_type": "code",
   "execution_count": 8,
   "metadata": {},
   "outputs": [],
   "source": [
    "X_train,X_test,y_train,y_test=train_test_split(digits.data,digits.target,test_size=0.2)"
   ]
  },
  {
   "cell_type": "code",
   "execution_count": 9,
   "metadata": {},
   "outputs": [
    {
     "data": {
      "text/plain": [
       "array([[ 0.,  0., 10., ...,  1.,  0.,  0.],\n",
       "       [ 0.,  0.,  7., ...,  8.,  0.,  0.],\n",
       "       [ 0.,  0.,  2., ..., 16., 16.,  7.],\n",
       "       ...,\n",
       "       [ 0.,  0.,  3., ...,  0.,  0.,  0.],\n",
       "       [ 0.,  0., 15., ...,  3.,  0.,  0.],\n",
       "       [ 0.,  1., 13., ..., 11.,  4.,  0.]])"
      ]
     },
     "execution_count": 9,
     "metadata": {},
     "output_type": "execute_result"
    }
   ],
   "source": [
    "X_train"
   ]
  },
  {
   "cell_type": "code",
   "execution_count": 10,
   "metadata": {},
   "outputs": [],
   "source": [
    "from sklearn.linear_model import LogisticRegression"
   ]
  },
  {
   "cell_type": "code",
   "execution_count": 11,
   "metadata": {},
   "outputs": [],
   "source": [
    "m=LogisticRegression()"
   ]
  },
  {
   "cell_type": "code",
   "execution_count": 12,
   "metadata": {},
   "outputs": [
    {
     "name": "stderr",
     "output_type": "stream",
     "text": [
      "C:\\Users\\Milind\\Anaconda3\\lib\\site-packages\\sklearn\\linear_model\\logistic.py:433: FutureWarning: Default solver will be changed to 'lbfgs' in 0.22. Specify a solver to silence this warning.\n",
      "  FutureWarning)\n",
      "C:\\Users\\Milind\\Anaconda3\\lib\\site-packages\\sklearn\\linear_model\\logistic.py:460: FutureWarning: Default multi_class will be changed to 'auto' in 0.22. Specify the multi_class option to silence this warning.\n",
      "  \"this warning.\", FutureWarning)\n"
     ]
    },
    {
     "data": {
      "text/plain": [
       "LogisticRegression(C=1.0, class_weight=None, dual=False, fit_intercept=True,\n",
       "          intercept_scaling=1, max_iter=100, multi_class='warn',\n",
       "          n_jobs=None, penalty='l2', random_state=None, solver='warn',\n",
       "          tol=0.0001, verbose=0, warm_start=False)"
      ]
     },
     "execution_count": 12,
     "metadata": {},
     "output_type": "execute_result"
    }
   ],
   "source": [
    "m.fit(X_train,y_train)"
   ]
  },
  {
   "cell_type": "code",
   "execution_count": 13,
   "metadata": {},
   "outputs": [
    {
     "data": {
      "text/plain": [
       "array([6])"
      ]
     },
     "execution_count": 13,
     "metadata": {},
     "output_type": "execute_result"
    }
   ],
   "source": [
    "m.predict([digits.data[67]])"
   ]
  },
  {
   "cell_type": "code",
   "execution_count": 14,
   "metadata": {},
   "outputs": [
    {
     "data": {
      "text/plain": [
       "array([5, 3, 9, 2, 1, 1, 1, 6, 4, 1, 8, 2, 8, 8, 0, 6, 5, 9, 0, 5, 4, 4,\n",
       "       6, 1, 4, 5, 6, 7, 9, 9, 5, 7, 6, 7, 2, 5, 5, 1, 3, 5, 9, 9, 6, 5,\n",
       "       3, 4, 9, 1, 8, 6, 7, 7, 6, 9, 5, 9, 8, 7, 0, 3, 3, 4, 3, 3, 3, 3,\n",
       "       5, 5, 8, 7, 6, 0, 0, 0, 2, 1, 6, 3, 4, 2, 0, 1, 3, 1, 0, 6, 8, 0,\n",
       "       8, 3, 8, 0, 1, 5, 6, 8, 2, 1, 3, 2, 1, 7, 4, 4, 4, 8, 5, 3, 1, 7,\n",
       "       9, 7, 0, 4, 9, 4, 5, 1, 2, 2, 3, 0, 6, 0, 6, 3, 7, 9, 3, 4, 9, 9,\n",
       "       1, 9, 9, 1, 4, 0, 8, 9, 6, 9, 8, 9, 8, 8, 3, 6, 1, 9, 7, 5, 2, 3,\n",
       "       9, 4, 4, 6, 5, 2, 5, 2, 3, 0, 4, 6, 1, 7, 8, 1, 8, 4, 8, 4, 1, 1,\n",
       "       9, 4, 2, 2, 5, 8, 9, 9, 6, 1, 7, 0, 0, 4, 1, 4, 1, 9, 7, 0, 1, 1,\n",
       "       3, 8, 3, 9, 7, 0, 5, 7, 3, 1, 0, 5, 5, 7, 1, 3, 9, 9, 2, 2, 8, 2,\n",
       "       7, 5, 7, 9, 6, 4, 7, 3, 8, 1, 6, 9, 5, 6, 6, 8, 9, 3, 5, 7, 1, 5,\n",
       "       9, 1, 7, 0, 8, 0, 5, 2, 6, 8, 2, 3, 1, 1, 8, 7, 2, 4, 9, 9, 6, 3,\n",
       "       1, 8, 8, 7, 4, 9, 7, 7, 6, 1, 0, 0, 9, 0, 5, 7, 0, 4, 5, 6, 3, 5,\n",
       "       5, 2, 6, 0, 9, 0, 7, 5, 5, 9, 9, 4, 4, 5, 6, 0, 2, 5, 5, 9, 3, 4,\n",
       "       5, 1, 8, 2, 8, 9, 8, 8, 0, 7, 8, 6, 4, 6, 9, 2, 0, 0, 5, 2, 4, 6,\n",
       "       0, 4, 4, 2, 9, 5, 1, 8, 3, 3, 7, 4, 8, 5, 6, 3, 7, 9, 9, 3, 8, 7,\n",
       "       7, 6, 6, 5, 6, 7, 2, 1])"
      ]
     },
     "execution_count": 14,
     "metadata": {},
     "output_type": "execute_result"
    }
   ],
   "source": [
    "m.predict(X_test)"
   ]
  },
  {
   "cell_type": "code",
   "execution_count": 15,
   "metadata": {},
   "outputs": [
    {
     "data": {
      "text/plain": [
       "0.9611111111111111"
      ]
     },
     "execution_count": 15,
     "metadata": {},
     "output_type": "execute_result"
    }
   ],
   "source": [
    "m.score(X_test,y_test)"
   ]
  },
  {
   "cell_type": "code",
   "execution_count": 16,
   "metadata": {},
   "outputs": [],
   "source": [
    "from  sklearn.metrics import confusion_matrix"
   ]
  },
  {
   "cell_type": "code",
   "execution_count": 17,
   "metadata": {},
   "outputs": [
    {
     "data": {
      "text/plain": [
       "array([[33,  0,  0,  0,  0,  0,  0,  0,  0,  0],\n",
       "       [ 0, 37,  0,  1,  0,  0,  0,  0,  0,  0],\n",
       "       [ 0,  0, 27,  1,  0,  0,  0,  0,  0,  0],\n",
       "       [ 0,  0,  0, 31,  0,  0,  0,  1,  2,  0],\n",
       "       [ 0,  0,  0,  0, 34,  0,  0,  0,  0,  1],\n",
       "       [ 0,  0,  0,  0,  0, 40,  0,  0,  0,  1],\n",
       "       [ 0,  0,  0,  0,  0,  1, 36,  0,  1,  0],\n",
       "       [ 0,  1,  0,  0,  0,  0,  0, 34,  0,  1],\n",
       "       [ 0,  1,  0,  1,  0,  0,  0,  0, 32,  0],\n",
       "       [ 0,  0,  0,  0,  0,  0,  0,  0,  1, 42]], dtype=int64)"
      ]
     },
     "execution_count": 17,
     "metadata": {},
     "output_type": "execute_result"
    }
   ],
   "source": [
    "y_predict=m.predict(X_test)\n",
    "m=confusion_matrix(y_test,y_predict)\n",
    "m"
   ]
  },
  {
   "cell_type": "code",
   "execution_count": null,
   "metadata": {},
   "outputs": [],
   "source": []
  }
 ],
 "metadata": {
  "kernelspec": {
   "display_name": "Python 3",
   "language": "python",
   "name": "python3"
  }
 },
 "nbformat": 4,
 "nbformat_minor": 2
}
